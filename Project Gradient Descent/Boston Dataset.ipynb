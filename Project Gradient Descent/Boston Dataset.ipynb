{
 "cells": [
  {
   "cell_type": "code",
   "execution_count": 12,
   "metadata": {},
   "outputs": [
    {
     "name": "stdout",
     "output_type": "stream",
     "text": [
      "Score for train data =  0.7331364834822229\n"
     ]
    },
    {
     "data": {
      "image/png": "[encoded data removed]",
      "text/plain": [
       "<Figure size 432x288 with 1 Axes>"
      ]
     },
     "metadata": {
      "needs_background": "light"
     },
     "output_type": "display_data"
    }
   ],
   "source": [
    "from sklearn import datasets\n",
    "import pandas as pd\n",
    "from sklearn import model_selection\n",
    "from sklearn.linear_model import LinearRegression\n",
    "from sklearn import preprocessing\n",
    "import numpy as np\n",
    "import matplotlib.pyplot as plt\n",
    "def step_gradient(x_train,y_train,lr,m) :\n",
    "    m_slope = []\n",
    "    v = len(x_train[0])\n",
    "    m_slope = np.zeros(v,dtype = float)\n",
    "    M = len(x_train)\n",
    "    for i in range(M) :\n",
    "        x = x_train[i]\n",
    "        y = y_train[i]\n",
    "        m_slope += (-2/M)*((y-(m*x).sum())*x)\n",
    "    new_m = m - (lr*m_slope)\n",
    "    return new_m\n",
    "\n",
    "def cost(x_train,y_train,m) :\n",
    "    tot_cost = 0\n",
    "    M = len(x_train) \n",
    "    for i in range(M) :\n",
    "        tot_cost += (1/M)*((y_train[i]-(m*x_train[i]).sum())**2)\n",
    "    return tot_cost.sum()\n",
    "\n",
    "def gd_algo(x_train,y_train) :\n",
    "    lr = 0.13\n",
    "    num_it = 300\n",
    "    v = len(x_train[0])\n",
    "    m=np.zeros(v,dtype =float)\n",
    "    for i in range(num_it) :\n",
    "        m = step_gradient(x_train,y_train,lr,m)\n",
    "       # print(i , \"Total cost = \", cost(data,m))\n",
    "    return m\n",
    "\n",
    "def score(y_truth, y_pred):\n",
    "    u = ((y_truth - y_pred)**2).sum()\n",
    "    v = ((y_truth - y_truth.mean())**2).sum()\n",
    "    return 1 - u/v\n",
    "\n",
    "def predict(x ,coeff) :\n",
    "    y_pred = np.sum(coeff*x,axis = 1)\n",
    "    return y_pred\n",
    "    \n",
    "def gradient_descent(train_data,test_data) : \n",
    "    \n",
    "    # dividing data into x and y\n",
    "    x_train = train_data[:,:-1]\n",
    "    y_train = train_data[:,-1]\n",
    "    x_test = test_data\n",
    "    \n",
    "    #scaling the data\n",
    "    scaler  = preprocessing.StandardScaler()\n",
    "    scaler.fit(x_train)\n",
    "    train_data = scaler.transform(x_train)\n",
    "    test_data = scaler.transform(test_data)\n",
    "    \n",
    "    # insert one column with all 1 values for finding c in coefficients\n",
    "    x_train =np.insert(x_train,len(x_train[0]),1,axis =1)\n",
    "    x_test =np.insert(x_test,len(test_data[0]),1,axis =1)\n",
    "    \n",
    "    # finding coefficients using gd_algo function\n",
    "    coeff = gd_algo(x_train, y_train)\n",
    "    \n",
    "    # finding y_pred for training data and analyzing it using score and matplot\n",
    "    y_pred_train = predict(x_train,coeff)\n",
    "    print(\"Score for train data = \" ,score(y_train,y_pred_train))\n",
    "    plt.scatter(y_train,y_pred_train)\n",
    "    plt.show()\n",
    "    \n",
    "    # finding y_predicted for test_data and saving it into csv file\n",
    "    #np.savetxt('predict_final.csv', y_pred, delimiter=',')\n",
    "\n",
    "def run() :\n",
    "    \n",
    "     # we are loading both train and test data from csv files\n",
    "     train_data = np.loadtxt(\"boston_x_y_train.csv\",delimiter = \",\")\n",
    "     test_data = np.loadtxt(\"boston_x_test.csv\",delimiter = \",\")\n",
    "        \n",
    "     gradient_descent(train_data,test_data)\n",
    "run()"
   ]
  }
 ],
 "metadata": {
  "kernelspec": {
   "display_name": "Python 3",
   "language": "python",
   "name": "python3"
  },
  "language_info": {
   "codemirror_mode": {
    "name": "ipython",
    "version": 3
   },
   "file_extension": ".py",
   "mimetype": "text/x-python",
   "name": "python",
   "nbconvert_exporter": "python",
   "pygments_lexer": "ipython3",
   "version": "3.7.0"
  }
 },
 "nbformat": 4,
 "nbformat_minor": 2
}
